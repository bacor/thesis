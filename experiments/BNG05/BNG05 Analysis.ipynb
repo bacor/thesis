{
 "cells": [
  {
   "cell_type": "code",
   "execution_count": 25,
   "metadata": {
    "ExecuteTime": {
     "end_time": "2017-07-17T11:52:58.201231Z",
     "start_time": "2017-07-17T11:52:58.177820Z"
    }
   },
   "outputs": [
    {
     "name": "stdout",
     "output_type": "stream",
     "text": [
      "Populating the interactive namespace from numpy and matplotlib\n"
     ]
    },
    {
     "name": "stderr",
     "output_type": "stream",
     "text": [
      "/Users/Bas/anaconda/envs/thesis2/lib/python3.6/site-packages/IPython/core/magics/pylab.py:160: UserWarning: pylab import has clobbered these variables: ['sample', 'entropy', 'plt', 'choice', 'gamma', 'flatten']\n",
      "`%matplotlib` prevents importing * from pylab and numpy\n",
      "  \"\\n`%matplotlib` prevents importing * from pylab and numpy\"\n"
     ]
    }
   ],
   "source": [
    "# Imports\n",
    "%pylab inline\n",
    "import sys\n",
    "sys.path.append('../../src/')\n",
    "from helpers import *\n",
    "from plothelpers import *\n",
    "from BayesianNamingGame import *\n",
    "import os\n",
    "from mpl_toolkits.axes_grid1 import make_axes_locatable\n",
    "from matplotlib import gridspec\n",
    "from matplotlib import ticker"
   ]
  },
  {
   "cell_type": "code",
   "execution_count": 6,
   "metadata": {
    "ExecuteTime": {
     "end_time": "2017-07-17T11:34:16.292196Z",
     "start_time": "2017-07-17T11:34:15.830265Z"
    },
    "code_folding": []
   },
   "outputs": [],
   "source": [
    "# Load all data\n",
    "fn = '../../results/BNG05/gamma-1/BNG05-zeta-1-run-0001'\n",
    "params = load_BNG_simulation(fn.format(1), params_only=True)\n",
    "\n",
    "dfs = []\n",
    "for gamma in [1, 5, 10, 20, 50, 100, 1000, 100000000]:\n",
    "    for zeta in [1, 1.5, 2, 5, 10, 100]:\n",
    "        fn = '../../results/BNG05/gamma-{}/BNG05-zeta-{}-stats.csv'.format(gamma, zeta)\n",
    "        try:\n",
    "            df = pd.read_csv(fn, index_col=0)\n",
    "            df['gamma'] = gamma\n",
    "            df['zeta'] = zeta\n",
    "            dfs.append(df.iloc[:20,:])\n",
    "        except: pass\n",
    "        \n",
    "# Combine in one Dataframe\n",
    "df = pd.concat(dfs)\n",
    "df.index = [df['gamma'], df['zeta']]\n",
    "del df['gamma']\n",
    "del df['zeta']\n",
    "\n",
    "# Normalize entropies, JSDs etc.\n",
    "N, K, T = params['N'], params['K'], params['T']\n",
    "df['jsd_phis'] = df['jsd_phis'] / np.log2(N)\n",
    "df['jsd_alpha_mphi'] = df['jsd_alpha_mphi'] / np.log2(2)\n",
    "df['entropy_mphi'] = df['entropy_mphi'] / np.log2(K)\n",
    "df['jsd_mphi_psi'] = df['jsd_mphi_psi'] / np.log2(2)\n",
    "df['entropy_psi'] = df['entropy_psi'] / np.log2(K)\n",
    "df['jsd_psi_alpha'] = df['jsd_psi_alpha'] / np.log2(2)\n",
    "\n",
    "slice_size = 2000\n",
    "slices = T//slice_size\n",
    "df['jsd_psi_slices'] = df['jsd_psi_slices'] / np.log2(slices)   \n",
    "\n",
    "# Compute the means\n",
    "means = df.mean(axis=0, level=[0,1])\n",
    "\n",
    "# Entropy of prior\n",
    "alpha_ps = params['alpha'] / params['alpha'].sum()\n",
    "entropy_alpha = entropy(alpha_ps) / np.log2(K)"
   ]
  },
  {
   "cell_type": "code",
   "execution_count": 23,
   "metadata": {
    "ExecuteTime": {
     "end_time": "2017-07-17T11:44:07.079876Z",
     "start_time": "2017-07-17T11:44:06.922622Z"
    },
    "code_folding": [
     0,
     23,
     31,
     41,
     57,
     65,
     72
    ]
   },
   "outputs": [],
   "source": [
    "settings = {\n",
    "    'entropy_mphi': {\n",
    "        'title': r'Relative entropy of mean distribution: $\\hatH(\\bar{\\varphi})$',\n",
    "        'vmin': 0, 'vmax':1,\n",
    "        'annotate_cb': [\n",
    "            {\n",
    "                'text': r'$\\hat H(\\alpha) = {:.3f}$'.format(entropy_alpha), \n",
    "                'y': entropy_alpha, \n",
    "                'x': 1.09\n",
    "            },\n",
    "            { 'text': 'uniform', 'y': 1},\n",
    "            { 'text': 'deterministic', 'y': 0}\n",
    "        ]\n",
    "    },\n",
    "    'jsd_alpha_mphi': {\n",
    "        'title': r'Divergence between mean distribution and prior: $\\mathsf{JSD}(\\alpha, \\bar{\\varphi})$',\n",
    "        'vmin': 0, 'vmax':1,\n",
    "        'annotate_cb': [\n",
    "            { 'text': 'maximally\\ndifferent', 'y': 1},\n",
    "            { 'text': 'identical', 'y': 0}\n",
    "        ]\n",
    "        \n",
    "    },\n",
    "    'jsd_phis': {\n",
    "        'title': r'Divergence between agent distributions: $\\mathsf{JSD}(\\varphi_1, \\dots, \\varphi_N)$',\n",
    "        'vmin': 0, 'vmax':1,\n",
    "        'annotate_cb': [\n",
    "            { 'text': 'maximally\\ndifferent', 'y': 1},\n",
    "            { 'text': 'identical', 'y': 0}\n",
    "        ]\n",
    "    },\n",
    "    'pearson_r': {\n",
    "        'title': r'Pearson corr. coefficient ($\\log(t)$ vs $\\log(\\mathsf{JSD}(\\varphi_1, \\dots, \\varphi_N)$)',\n",
    "        'vmin': -1, 'vmax':1,\n",
    "        'cmap': CustomCmap('blue', 'orange', via_rgb='white'),\n",
    "        'annotate_cb': [\n",
    "            { 'text': 'divergence', 'y': 1},\n",
    "            { 'text': 'no convergence', 'y': .5},\n",
    "            { 'text': 'convergence', 'y': 0}\n",
    "        ]\n",
    "    },\n",
    "    'std_jsd_phis': {\n",
    "        'title': r'Standard deviation of $\\mathsf{JSD}(\\varphi_1, \\dots, \\varphi_N)$ over time',\n",
    "        'vmin': 0, 'vmax': .2,\n",
    "        'annotate_cb': [\n",
    "            { 'text': 'less stable', 'y': 1},\n",
    "            { 'text': 'very stable', 'y': 0}\n",
    "        ]\n",
    "    },\n",
    "    'jsd_mphi_psi': {\n",
    "        'title': r'Divergence between mean dist. and time average: $\\mathsf{JSD}(\\bar{\\varphi}, \\psi)$',\n",
    "        'vmin': 0, 'vmax':1,\n",
    "        'annotate_cb': [\n",
    "            { 'text': 'maximally\\ndifferent', 'y': 1},\n",
    "            { 'text': 'identical', 'y': 0}\n",
    "        ]\n",
    "    },\n",
    "    'jsd_psi_alpha': {\n",
    "        'title': r'Divergence between time average and prior: $\\mathsf{JSD}(\\alpha, \\psi)$',\n",
    "        'vmin': 0, 'vmax':1,\n",
    "        'annotate_cb': [\n",
    "            { 'text': 'maximally\\ndifferent', 'y': 1},\n",
    "            { 'text': 'identical', 'y': 0}\n",
    "        ]\n",
    "    },\n",
    "    'jsd_psi_slices': {\n",
    "        'title': r'Variability: $\\mathsf{JSD}\\left(\\psi^{(0:t)}, \\dots, \\psi^{(T-t:T)}\\right)$',\n",
    "        'vmin': 0, 'vmax':.2,\n",
    "        'annotate_cb': [\n",
    "            { 'text': 'identical', 'y': 0}\n",
    "        ]\n",
    "    },\n",
    "    'entropy_psi': {\n",
    "        'title': r'Relative entropy of time average: $\\hat H(\\psi)$',\n",
    "        'vmin': 0, 'vmax':1,\n",
    "        'annotate_cb': [\n",
    "            {\n",
    "                'text': r'$\\hat H(\\alpha) = {:.3f}$'.format(entropy_alpha), \n",
    "                'y': entropy_alpha, \n",
    "                'x': 1.09\n",
    "            },\n",
    "            { 'text': 'uniform', 'y': 1},\n",
    "            { 'text': 'deterministic', 'y': 0}\n",
    "        ]\n",
    "    }\n",
    "}"
   ]
  },
  {
   "cell_type": "code",
   "execution_count": 24,
   "metadata": {
    "ExecuteTime": {
     "end_time": "2017-07-17T11:44:10.117806Z",
     "start_time": "2017-07-17T11:44:07.698959Z"
    },
    "code_folding": [
     2,
     7,
     20
    ]
   },
   "outputs": [
    {
     "name": "stderr",
     "output_type": "stream",
     "text": [
      "/Users/Bas/anaconda/envs/thesis2/lib/python3.6/site-packages/matplotlib/mathtext.py:851: MathTextWarning: Substituting with a symbol from Computer Modern.\n",
      "  MathTextWarning)\n"
     ]
    },
    {
     "data": {
      "image/png": "[encoded data removed]",
      "text/plain": [
       "<matplotlib.figure.Figure at 0x109160978>"
      ]
     },
     "metadata": {},
     "output_type": "display_data"
    }
   ],
   "source": [
    "# Plot \n",
    "\n",
    "def annotate_colorbar(text, y, x=1.22):\n",
    "    gca().annotate(text, xy=(x, y), xytext=(1.3, y), xycoords='axes fraction',\n",
    "                fontsize = 7.5, ha='left', va='center', \n",
    "                arrowprops=dict(facecolor='black', width=.5, headlength=4, headwidth=3))\n",
    "\n",
    "def plot_result(name):\n",
    "    props = settings[name]\n",
    "    figure(figsize=cm2inch(8,8))\n",
    "    ax=gca()\n",
    "    df = means[name].unstack()\n",
    "    if 'cmap' in props:\n",
    "        cmap = props['cmap']\n",
    "    else:\n",
    "        cmap = CustomCmap('white', 'orange')\n",
    "    im = imshow(df, aspect=1/2.5, interpolation='none', cmap=cmap,\n",
    "               vmin=props['vmin'], vmax=props['vmax'])\n",
    "\n",
    "    # Add text to every cell\n",
    "    for i, (gamma, row) in enumerate(df.iterrows()):\n",
    "        for j, (zeta, val) in enumerate(row.items()):\n",
    "            txt = '{:.3f}'.format(val)\n",
    "            gca().text(j, i, txt, va='center', ha='center', \n",
    "                       color='k', fontsize=5.5, alpha=.3)\n",
    "\n",
    "    # labels\n",
    "    if True:\n",
    "\n",
    "        title(props['title'])\n",
    "\n",
    "        ylabels = ['{}'.format(g) for g in df.index[:-1].tolist()]\n",
    "        ylabels += ['(NG) $\\infty$']\n",
    "        ylabels[0] = '(IL) '+ ylabels[0]\n",
    "        yticks(arange(len(df.index)), ylabels)\n",
    "        ylabel('game type ($\\gamma$)')\n",
    "\n",
    "        xlabels = ['{}'.format(z) for z in df.columns]\n",
    "        xlabels[0] = xlabels[0] + ' (sampler)'\n",
    "        xlabels[-1] = xlabels[-1] + ' (MAP)'\n",
    "        xticks(arange(len(df.columns)), xlabels)\n",
    "        xlabel('strategy ($\\zeta$)')\n",
    "\n",
    "        restyle_title(ax)\n",
    "        cb = colorbar(im, fraction=0.0295)\n",
    "        tick_locator = ticker.MaxNLocator(nbins=4)\n",
    "        cb.locator = tick_locator\n",
    "        cb.update_ticks()\n",
    "\n",
    "\n",
    "        if 'annotate_cb' in props:\n",
    "            for ann in props['annotate_cb']:\n",
    "                annotate_colorbar(**ann)\n",
    "\n",
    "    subplots_adjust(left=0, bottom=0, right=1, top=1)\n",
    "    savefig('BNG05-{}-results.png'.format(name), bbox_inches='tight')\n",
    "\n",
    "# Plot all things    \n",
    "plot_result('jsd_mphi_psi')"
   ]
  },
  {
   "cell_type": "code",
   "execution_count": null,
   "metadata": {
    "ExecuteTime": {
     "end_time": "2017-07-17T11:39:36.457646Z",
     "start_time": "2017-07-17T11:39:14.888004Z"
    },
    "code_folding": []
   },
   "outputs": [],
   "source": [
    "# Generate all plots\n",
    "for name in settings:\n",
    "    plot_result(name);"
   ]
  },
  {
   "cell_type": "code",
   "execution_count": null,
   "metadata": {
    "collapsed": true
   },
   "outputs": [],
   "source": []
  }
 ],
 "metadata": {
  "anaconda-cloud": {},
  "kernelspec": {
   "display_name": "Python 3",
   "language": "python",
   "name": "python3"
  },
  "language_info": {
   "codemirror_mode": {
    "name": "ipython",
    "version": 3
   },
   "file_extension": ".py",
   "mimetype": "text/x-python",
   "name": "python",
   "nbconvert_exporter": "python",
   "pygments_lexer": "ipython3",
   "version": "3.6.1"
  },
  "toc": {
   "toc_cell": false,
   "toc_number_sections": true,
   "toc_threshold": 6,
   "toc_window_display": false
  }
 },
 "nbformat": 4,
 "nbformat_minor": 2
}
