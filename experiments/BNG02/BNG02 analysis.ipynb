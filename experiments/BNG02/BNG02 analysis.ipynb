{
 "cells": [
  {
   "cell_type": "code",
   "execution_count": 1,
   "metadata": {
    "ExecuteTime": {
     "end_time": "2017-07-17T14:00:08.342036Z",
     "start_time": "2017-07-17T14:00:06.754671Z"
    },
    "code_folding": [
     0
    ]
   },
   "outputs": [
    {
     "name": "stdout",
     "output_type": "stream",
     "text": [
      "Populating the interactive namespace from numpy and matplotlib\n"
     ]
    }
   ],
   "source": [
    "# Imports\n",
    "%pylab inline\n",
    "import sys\n",
    "sys.path.append('../../src/')\n",
    "from helpers import *\n",
    "from plothelpers import *\n",
    "from scipy.stats import linregress\n",
    "from BayesianNamingGame import *\n",
    "import pandas as pd"
   ]
  },
  {
   "cell_type": "markdown",
   "metadata": {},
   "source": [
    "In this experiment we test convergence in the Bayesian Naming Game. We simulate several runs for the game with $10^7$ timesteps and track the divergens between the agents' distributions and $\\alpha$.\n",
    "We clearly see that $\\mathsf{JSD}(\\phi_1, \\dots, \\phi_N) \\to 0$ as $t\\to \\infty$ and we conlude that the agents do indeed settle on a shared language."
   ]
  },
  {
   "cell_type": "code",
   "execution_count": 2,
   "metadata": {
    "ExecuteTime": {
     "end_time": "2017-07-17T14:00:08.348037Z",
     "start_time": "2017-07-17T14:00:08.344076Z"
    },
    "collapsed": true
   },
   "outputs": [],
   "source": [
    "folder = '../../results/BNG02'\n",
    "name = 'BNG02'"
   ]
  },
  {
   "cell_type": "code",
   "execution_count": 3,
   "metadata": {
    "ExecuteTime": {
     "end_time": "2017-07-17T14:00:08.447137Z",
     "start_time": "2017-07-17T14:00:08.352665Z"
    },
    "code_folding": [
     0
    ],
    "collapsed": true
   },
   "outputs": [],
   "source": [
    "# Load data\n",
    "runs = 10\n",
    "\n",
    "# Load params\n",
    "fn = folder + '/BNG02-run-{:0>4}'\n",
    "params = load_BNG_simulation(fn.format(1), params_only=True)\n",
    "\n",
    "# Initialize stats\n",
    "stats = np.zeros((runs, len(params['datapoints']), 4))\n",
    "\n",
    "# Load stats from every round\n",
    "for r, run in enumerate(arange(1, runs+1)):\n",
    "    fn = folder + '/BNG02-run-{:0>4}'.format(run)\n",
    "    bn = os.path.basename(fn)\n",
    "    df = pd.read_csv(os.path.join(fn, bn + '-stats.csv.gz'), index_col=0)\n",
    "    stats[r,:,:] = df.as_matrix()\n",
    "\n",
    "# Load stats into separate variables\n",
    "jsd_phis = stats[:,:,0]\n",
    "jsd_alpha_mphi = stats[:,:,1]\n",
    "entropy_mphi = stats[:,:,2]\n",
    "jsd_alpha_phis = stats[:,:,3]"
   ]
  },
  {
   "cell_type": "code",
   "execution_count": 4,
   "metadata": {
    "ExecuteTime": {
     "end_time": "2017-07-17T14:00:11.870356Z",
     "start_time": "2017-07-17T14:00:08.449836Z"
    },
    "code_folding": [
     0,
     9,
     16,
     23,
     30,
     39,
     48
    ]
   },
   "outputs": [
    {
     "data": {
      "image/png": "[encoded data removed]",
      "text/plain": [
       "<matplotlib.figure.Figure at 0x111b6e358>"
      ]
     },
     "metadata": {},
     "output_type": "display_data"
    }
   ],
   "source": [
    "# Plot\n",
    "figure(figsize=cm2inch(12,4))\n",
    "\n",
    "# Settings\n",
    "runs = 20\n",
    "xs = params['datapoints']\n",
    "mphis = jsd_phis.mean(axis=0)\n",
    "\n",
    "# JSD(alpha, mean(phi))\n",
    "if True:\n",
    "    l, = pyplot.loglog(xs, jsd_alpha_mphi.mean(axis=0), lw=1.2,\n",
    "              label=r'$\\mathsf{JSD}(\\alpha, \\overline{\\varphi})$')\n",
    "    pyplot.loglog(xs, jsd_alpha_mphi[:runs,:].T, color=l.get_color(),\n",
    "                  lw=0.2, alpha=.2);\n",
    "\n",
    "# JSD(phi_1, ... phi_N)\n",
    "if True:\n",
    "    l, = pyplot.loglog(xs, mphis, lw=1.2,\n",
    "              label=r'$\\mathsf{JSD}(\\varphi_1, \\dots, \\varphi_N)$')\n",
    "    pyplot.loglog(xs, jsd_phis[:runs,:].T, color=l.get_color(),\n",
    "                  lw=0.2, alpha=.3);\n",
    "\n",
    "# Linear regression line\n",
    "if True:\n",
    "    start = 200\n",
    "    res = linregress(log10(xs[start:]), log10(jsd_phis.mean(axis=0))[start:])\n",
    "    pyplot.loglog(xs, xs**res.slope * 10**res.intercept, 'k', dashes=(1,2), lw=.5,\n",
    "                  label=r'$f(x) = {a:.2f}x^{{{k:.2f}}}$'.format(a=res.intercept, k=res.slope))\n",
    "\n",
    "# Intersection\n",
    "if True:\n",
    "    idx = np.argwhere(np.diff(np.sign(mphis - jsd_alpha_mphi.mean(axis=0))) != 0).reshape(-1) + 0\n",
    "    x,y = xs[idx[0]], mphis[idx[0]]\n",
    "    plot(x, y, 'ko', ms=5)\n",
    "    gca().annotate(r'$t_{\\mathrm{int}}$', xy=(x,y),  xycoords='data',\n",
    "                xytext=(x+10,y+0.01), textcoords='data',\n",
    "                horizontalalignment='left', verticalalignment='bottom', fontsize=9)\n",
    "\n",
    "# Maximum\n",
    "if True:\n",
    "    x, y = xs[mphis.argmax()], mphis[mphis.argmax()]\n",
    "    plot(x, y, 'ko', ms=5)\n",
    "    gca().annotate(r'$t_{\\mathrm{max}}$', xy=(x,y),  xycoords='data',\n",
    "                xytext=(x+5,y-.03), textcoords='data',\n",
    "                horizontalalignment='right', verticalalignment='top',\n",
    "                fontsize=9)\n",
    "\n",
    "# Format\n",
    "if True:\n",
    "    legend(bbox_to_anchor=(.45,.5))\n",
    "    xlabel('time (t)')\n",
    "    ylabel('Jensen-Shannon divergence')\n",
    "    title('Convergence of distributions in the Bayesian Naming Game')\n",
    "    restyle_title(gca())\n",
    "    sns.despine()\n",
    "    ylim(int(10e-7), 1)\n",
    "    xlim(0,10000000)\n",
    "\n",
    "subplots_adjust(left=0, bottom=0, right=1, top=1)\n",
    "savefig('BNG02-results.pdf', bbox_inches='tight')\n",
    "copyfig('BNG02-results.pdf')"
   ]
  },
  {
   "cell_type": "code",
   "execution_count": null,
   "metadata": {
    "collapsed": true
   },
   "outputs": [],
   "source": []
  }
 ],
 "metadata": {
  "anaconda-cloud": {},
  "kernelspec": {
   "display_name": "Python 3",
   "language": "python",
   "name": "python3"
  },
  "language_info": {
   "codemirror_mode": {
    "name": "ipython",
    "version": 3
   },
   "file_extension": ".py",
   "mimetype": "text/x-python",
   "name": "python",
   "nbconvert_exporter": "python",
   "pygments_lexer": "ipython3",
   "version": "3.6.1"
  },
  "toc": {
   "toc_cell": false,
   "toc_number_sections": true,
   "toc_threshold": 6,
   "toc_window_display": false
  }
 },
 "nbformat": 4,
 "nbformat_minor": 2
}
