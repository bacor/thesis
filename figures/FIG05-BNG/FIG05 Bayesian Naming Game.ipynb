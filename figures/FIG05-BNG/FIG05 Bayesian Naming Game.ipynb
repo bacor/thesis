{
 "cells": [
  {
   "cell_type": "code",
   "execution_count": 1,
   "metadata": {
    "ExecuteTime": {
     "end_time": "2017-07-17T15:33:19.738233Z",
     "start_time": "2017-07-17T15:33:18.479722Z"
    }
   },
   "outputs": [
    {
     "name": "stdout",
     "output_type": "stream",
     "text": [
      "Populating the interactive namespace from numpy and matplotlib\n"
     ]
    }
   ],
   "source": [
    "# Imports\n",
    "%config InlineBackend.figure_format = 'retina'\n",
    "%pylab inline\n",
    "import sys\n",
    "sys.path.append('../../src/')\n",
    "from helpers import *\n",
    "from plothelpers import *\n",
    "from BayesianNamingGame import *"
   ]
  },
  {
   "cell_type": "markdown",
   "metadata": {},
   "source": [
    "# Convergence towards stable language"
   ]
  },
  {
   "cell_type": "code",
   "execution_count": 2,
   "metadata": {
    "ExecuteTime": {
     "end_time": "2017-07-17T15:33:19.954439Z",
     "start_time": "2017-07-17T15:33:19.740710Z"
    },
    "code_folding": [
     0,
     8,
     50
    ],
    "collapsed": true
   },
   "outputs": [],
   "source": [
    "def run(init_counts=None, setup=None):\n",
    "    if init_counts:\n",
    "        setup['init_counts'] = init_counts\n",
    "    res = BNG_simulation(**setup)\n",
    "    vs = res['counts'] + setup['alpha']\n",
    "    ps = vs / vs.sum(axis=1)[:, np.newaxis]\n",
    "    return ps, res['counts']\n",
    "\n",
    "def show_simulation(G, y, setup, titles=False):\n",
    "    ax1 = subplot(G[y,0])\n",
    "    setup['T'] = 10\n",
    "    ps, counts = run(setup=setup)\n",
    "    imshow(ps, interpolation='none', cmap=cmap)\n",
    "    if titles: title('$t = 10$')\n",
    "\n",
    "    ax2 = subplot(G[y,1])\n",
    "    setup['T'] = 90\n",
    "    ps, counts = run(counts, setup=setup)\n",
    "    imshow(ps, interpolation='none', cmap=cmap)\n",
    "    if titles: title('$t = 100$')\n",
    "\n",
    "    ax3 = subplot(G[y,2])\n",
    "    setup['T'] = 900\n",
    "    ps, counts = run(counts, setup=setup)\n",
    "    imshow(ps, interpolation='none', cmap=cmap)\n",
    "    if titles: title('$t = 1000$')\n",
    "\n",
    "    ax4 = subplot(G[y,3])\n",
    "    setup['T'] = 9000\n",
    "    ps, counts = run(counts, setup=setup)\n",
    "    imshow(ps, interpolation='none', cmap=cmap)\n",
    "    if titles: title('$t = 10\\; 000$')\n",
    "\n",
    "    ax5 = subplot(G[y,4])\n",
    "    setup['T'] = 90000\n",
    "    ps, counts = run(counts, setup=setup)\n",
    "    imshow(ps, interpolation='none', cmap=cmap)\n",
    "    if titles: title('$t = 100\\; 000$')\n",
    "    \n",
    "    ax6 = subplot(G[y,5])\n",
    "    xs = arange(setup['K'])\n",
    "    alpha = array(setup['alpha'])\n",
    "    pyplot.bar(xs-.5, alpha/sum(alpha), facecolor='k', alpha=.3)\n",
    "    pyplot.bar(xs-.5,ps.mean(axis=0))\n",
    "    xlim(0,19.5)\n",
    "    sns.despine(ax=ax6)\n",
    "    if titles: title('Limiting dist.')\n",
    "    \n",
    "    return [ax1,ax2,ax3,ax4,ax5,ax6]\n",
    "\n",
    "def plot_runs(setup):\n",
    "    G = gridspec.GridSpec(4, 6)\n",
    "    cmap = CustomCmap('white', 'orange')\n",
    "\n",
    "    axes = []\n",
    "    axes += show_simulation(G, 0, setup, titles=True)\n",
    "    axes += show_simulation(G, 1, setup)\n",
    "    axes += show_simulation(G, 2, setup)\n",
    "\n",
    "    subplot(G[0,0]).set_ylabel('run 1\\nagents')\n",
    "    subplot(G[1,0]).set_ylabel('run 2\\nagents')\n",
    "    subplot(G[2,0]).set_ylabel('run 3\\nagents')\n",
    "    for x in range(6):\n",
    "        subplot(G[2,x]).set_xlabel('words')\n",
    "\n",
    "    restyle_title(*axes, y=1.2, label=False)\n",
    "    for ax in axes:\n",
    "        ax.set_yticks([])\n",
    "        ax.set_xticks([])"
   ]
  },
  {
   "cell_type": "code",
   "execution_count": 3,
   "metadata": {
    "ExecuteTime": {
     "end_time": "2017-07-17T15:33:21.068619Z",
     "start_time": "2017-07-17T15:33:19.956908Z"
    },
    "code_folding": []
   },
   "outputs": [
    {
     "ename": "NameError",
     "evalue": "name 'cmap' is not defined",
     "output_type": "error",
     "traceback": [
      "\u001b[0;31m---------------------------------------------------------------------------\u001b[0m",
      "\u001b[0;31mNameError\u001b[0m                                 Traceback (most recent call last)",
      "\u001b[0;32m<ipython-input-3-24ef5710d6e6>\u001b[0m in \u001b[0;36m<module>\u001b[0;34m()\u001b[0m\n\u001b[1;32m     18\u001b[0m             \u001b[0msetup\u001b[0m\u001b[0;34m[\u001b[0m\u001b[0;34m'zeta'\u001b[0m\u001b[0;34m]\u001b[0m \u001b[0;34m=\u001b[0m \u001b[0mzeta\u001b[0m\u001b[0;34m\u001b[0m\u001b[0m\n\u001b[1;32m     19\u001b[0m             \u001b[0msetup\u001b[0m\u001b[0;34m[\u001b[0m\u001b[0;34m'gamma'\u001b[0m\u001b[0;34m]\u001b[0m \u001b[0;34m=\u001b[0m \u001b[0mgamma\u001b[0m\u001b[0;34m\u001b[0m\u001b[0m\n\u001b[0;32m---> 20\u001b[0;31m             \u001b[0mplot_runs\u001b[0m\u001b[0;34m(\u001b[0m\u001b[0msetup\u001b[0m\u001b[0;34m)\u001b[0m\u001b[0;34m\u001b[0m\u001b[0m\n\u001b[0m\u001b[1;32m     21\u001b[0m             \u001b[0msubplots_adjust\u001b[0m\u001b[0;34m(\u001b[0m\u001b[0mleft\u001b[0m\u001b[0;34m=\u001b[0m\u001b[0;36m0\u001b[0m\u001b[0;34m,\u001b[0m \u001b[0mbottom\u001b[0m\u001b[0;34m=\u001b[0m\u001b[0;36m0\u001b[0m\u001b[0;34m,\u001b[0m \u001b[0mright\u001b[0m\u001b[0;34m=\u001b[0m\u001b[0;36m1\u001b[0m\u001b[0;34m,\u001b[0m \u001b[0mtop\u001b[0m\u001b[0;34m=\u001b[0m\u001b[0;36m1\u001b[0m\u001b[0;34m,\u001b[0m \u001b[0mwspace\u001b[0m\u001b[0;34m=\u001b[0m\u001b[0;36m0.3\u001b[0m\u001b[0;34m)\u001b[0m\u001b[0;34m\u001b[0m\u001b[0m\n\u001b[1;32m     22\u001b[0m             \u001b[0mfn\u001b[0m \u001b[0;34m=\u001b[0m \u001b[0;34mf'FIG05-language-gamma-{gamma}-eta-{eta}-zeta-{zeta}'\u001b[0m\u001b[0;34m\u001b[0m\u001b[0m\n",
      "\u001b[0;32m<ipython-input-2-592399c93b15>\u001b[0m in \u001b[0;36mplot_runs\u001b[0;34m(setup)\u001b[0m\n\u001b[1;32m     54\u001b[0m \u001b[0;34m\u001b[0m\u001b[0m\n\u001b[1;32m     55\u001b[0m     \u001b[0maxes\u001b[0m \u001b[0;34m=\u001b[0m \u001b[0;34m[\u001b[0m\u001b[0;34m]\u001b[0m\u001b[0;34m\u001b[0m\u001b[0m\n\u001b[0;32m---> 56\u001b[0;31m     \u001b[0maxes\u001b[0m \u001b[0;34m+=\u001b[0m \u001b[0mshow_simulation\u001b[0m\u001b[0;34m(\u001b[0m\u001b[0mG\u001b[0m\u001b[0;34m,\u001b[0m \u001b[0;36m0\u001b[0m\u001b[0;34m,\u001b[0m \u001b[0msetup\u001b[0m\u001b[0;34m,\u001b[0m \u001b[0mtitles\u001b[0m\u001b[0;34m=\u001b[0m\u001b[0;32mTrue\u001b[0m\u001b[0;34m)\u001b[0m\u001b[0;34m\u001b[0m\u001b[0m\n\u001b[0m\u001b[1;32m     57\u001b[0m     \u001b[0maxes\u001b[0m \u001b[0;34m+=\u001b[0m \u001b[0mshow_simulation\u001b[0m\u001b[0;34m(\u001b[0m\u001b[0mG\u001b[0m\u001b[0;34m,\u001b[0m \u001b[0;36m1\u001b[0m\u001b[0;34m,\u001b[0m \u001b[0msetup\u001b[0m\u001b[0;34m)\u001b[0m\u001b[0;34m\u001b[0m\u001b[0m\n\u001b[1;32m     58\u001b[0m     \u001b[0maxes\u001b[0m \u001b[0;34m+=\u001b[0m \u001b[0mshow_simulation\u001b[0m\u001b[0;34m(\u001b[0m\u001b[0mG\u001b[0m\u001b[0;34m,\u001b[0m \u001b[0;36m2\u001b[0m\u001b[0;34m,\u001b[0m \u001b[0msetup\u001b[0m\u001b[0;34m)\u001b[0m\u001b[0;34m\u001b[0m\u001b[0m\n",
      "\u001b[0;32m<ipython-input-2-592399c93b15>\u001b[0m in \u001b[0;36mshow_simulation\u001b[0;34m(G, y, setup, titles)\u001b[0m\n\u001b[1;32m     11\u001b[0m     \u001b[0msetup\u001b[0m\u001b[0;34m[\u001b[0m\u001b[0;34m'T'\u001b[0m\u001b[0;34m]\u001b[0m \u001b[0;34m=\u001b[0m \u001b[0;36m10\u001b[0m\u001b[0;34m\u001b[0m\u001b[0m\n\u001b[1;32m     12\u001b[0m     \u001b[0mps\u001b[0m\u001b[0;34m,\u001b[0m \u001b[0mcounts\u001b[0m \u001b[0;34m=\u001b[0m \u001b[0mrun\u001b[0m\u001b[0;34m(\u001b[0m\u001b[0msetup\u001b[0m\u001b[0;34m=\u001b[0m\u001b[0msetup\u001b[0m\u001b[0;34m)\u001b[0m\u001b[0;34m\u001b[0m\u001b[0m\n\u001b[0;32m---> 13\u001b[0;31m     \u001b[0mimshow\u001b[0m\u001b[0;34m(\u001b[0m\u001b[0mps\u001b[0m\u001b[0;34m,\u001b[0m \u001b[0minterpolation\u001b[0m\u001b[0;34m=\u001b[0m\u001b[0;34m'none'\u001b[0m\u001b[0;34m,\u001b[0m \u001b[0mcmap\u001b[0m\u001b[0;34m=\u001b[0m\u001b[0mcmap\u001b[0m\u001b[0;34m)\u001b[0m\u001b[0;34m\u001b[0m\u001b[0m\n\u001b[0m\u001b[1;32m     14\u001b[0m     \u001b[0;32mif\u001b[0m \u001b[0mtitles\u001b[0m\u001b[0;34m:\u001b[0m \u001b[0mtitle\u001b[0m\u001b[0;34m(\u001b[0m\u001b[0;34m'$t = 10$'\u001b[0m\u001b[0;34m)\u001b[0m\u001b[0;34m\u001b[0m\u001b[0m\n\u001b[1;32m     15\u001b[0m \u001b[0;34m\u001b[0m\u001b[0m\n",
      "\u001b[0;31mNameError\u001b[0m: name 'cmap' is not defined"
     ]
    },
    {
     "data": {
      "image/png": "[encoded data removed]",
      "text/plain": [
       "<matplotlib.figure.Figure at 0x117a579e8>"
      ]
     },
     "metadata": {
      "image/png": {
       "height": 275,
       "width": 340
      }
     },
     "output_type": "display_data"
    }
   ],
   "source": [
    "# Plot \n",
    "figure(figsize=cm2inch(12,6))\n",
    "K=20\n",
    "setup = dict(\n",
    "    T = 5000, \n",
    "    num_datapoints = 100, \n",
    "    K = K, \n",
    "    N = 15,\n",
    "    b = 1,\n",
    "    alpha = K*get_pis(K)['peak'],\n",
    "    record=False,\n",
    "    record_utterances=False)\n",
    "\n",
    "for gamma in [1,10000000]:\n",
    "    for eta in [1,100]:\n",
    "        for zeta in [1, 100]:\n",
    "            setup['eta'] = eta\n",
    "            setup['zeta'] = zeta\n",
    "            setup['gamma'] = gamma\n",
    "            plot_runs(setup)\n",
    "            subplots_adjust(left=0, bottom=0, right=1, top=1, wspace=0.3)\n",
    "            fn = f'FIG05-language-gamma-{gamma}-eta-{eta}-zeta-{zeta}'\n",
    "            savefig(fn, dpi=450, bbox_inches='tight')"
   ]
  },
  {
   "cell_type": "markdown",
   "metadata": {},
   "source": [
    "# Convergence over time"
   ]
  },
  {
   "cell_type": "code",
   "execution_count": null,
   "metadata": {
    "ExecuteTime": {
     "end_time": "2017-07-17T15:33:21.069784Z",
     "start_time": "2017-07-17T15:33:18.483Z"
    },
    "code_folding": []
   },
   "outputs": [],
   "source": [
    "def plot_utterances_over_time(setup):\n",
    "    res = BNG_simulation(**setup)\n",
    "    utter = res['utterances'].todense()\n",
    "    words = res['utterances'].argmax(axis=1)\n",
    "\n",
    "    dists = array([np.histogram(words[:t], bins=K, range=(0, K))[0] \n",
    "             for t in range(0,len(words),1)])\n",
    "    dists = dists / dists.max(axis=1)[:, np.newaxis]\n",
    "\n",
    "    # plot\n",
    "    ax1 = subplot(121)\n",
    "    points = utter.argmax(axis=1)\n",
    "    plot(points, '.',color='#ed6751', ms=2)\n",
    "    ylabel('word')\n",
    "    xlabel('time ($t$)')\n",
    "    xlim(0,5000)\n",
    "    title('Words uttered at every interaction')\n",
    "    gca().invert_yaxis()\n",
    "\n",
    "    ax2 = subplot(122, sharey=ax1)\n",
    "    alpha = array([setup['alpha']]) / setup['alpha'].max() \n",
    "    alpha = np.repeat(alpha, 200, axis=0)# * setup['K']*dists[-1].mean()\n",
    "\n",
    "    ps = np.concatenate((dists, zeros((300,K)), alpha))\n",
    "    imshow(ps.T, aspect=71, interpolation='none', cmap=cmap)\n",
    "    xlabel('time ($t$)')\n",
    "    title('Convergence of rel. freq. of words')\n",
    "    xlim(-200, setup['T']+1000)\n",
    "    ylim((-2, 41))\n",
    "    sns.despine()\n",
    "    restyle_title(ax1,ax2)\n",
    "    \n",
    "    ax2.annotate(r'$\\alpha$', xy=(.96,.5), xytext=(1.05, .5), \n",
    "                 xycoords='axes fraction', fontsize = 7.5, \n",
    "                 ha='left', va='center',\n",
    "                 arrowprops=dict(facecolor='black', width=.5, headlength=4, headwidth=3))\n",
    "    \n",
    "\n",
    "# figure(figsize=cm2inch(12,3))\n",
    "# plot_utterances_over_time(setup)    \n",
    "# subplots_adjust(left=0, bottom=0, right=1, top=1)"
   ]
  },
  {
   "cell_type": "code",
   "execution_count": null,
   "metadata": {
    "ExecuteTime": {
     "end_time": "2017-07-17T15:33:21.072408Z",
     "start_time": "2017-07-17T15:33:18.486Z"
    },
    "code_folding": [
     0
    ]
   },
   "outputs": [],
   "source": [
    "# Plot \n",
    "K=40\n",
    "setup = dict(\n",
    "    T = 5000, \n",
    "    num_datapoints = 100, \n",
    "    K = K, \n",
    "    N = 15,\n",
    "    b = 1,\n",
    "    alpha = beta*get_pis(K)['peak'],\n",
    "    record=False,\n",
    "    record_utterances=True)\n",
    "\n",
    "for gamma in [1,10000000]:\n",
    "    for eta in [1,100]:\n",
    "        for zeta in [1, 100]:\n",
    "            setup['eta'] = eta\n",
    "            setup['zeta'] = zeta\n",
    "            setup['gamma'] = gamma\n",
    "            figure(figsize=cm2inch(12,3))\n",
    "            plot_utterances_over_time(setup)    \n",
    "            subplots_adjust(left=0, bottom=0, right=1, top=1)\n",
    "            fn = f'FIG05-utterances-gamma-{gamma}-eta-{eta}-zeta-{zeta}'\n",
    "            savefig(fn, dpi=450, bbox_inches='tight')"
   ]
  },
  {
   "cell_type": "code",
   "execution_count": null,
   "metadata": {
    "collapsed": true
   },
   "outputs": [],
   "source": []
  }
 ],
 "metadata": {
  "anaconda-cloud": {},
  "kernelspec": {
   "display_name": "Python 3",
   "language": "python",
   "name": "python3"
  },
  "language_info": {
   "codemirror_mode": {
    "name": "ipython",
    "version": 3
   },
   "file_extension": ".py",
   "mimetype": "text/x-python",
   "name": "python",
   "nbconvert_exporter": "python",
   "pygments_lexer": "ipython3",
   "version": "3.6.1"
  },
  "toc": {
   "toc_cell": false,
   "toc_number_sections": true,
   "toc_threshold": 6,
   "toc_window_display": false
  }
 },
 "nbformat": 4,
 "nbformat_minor": 2
}
